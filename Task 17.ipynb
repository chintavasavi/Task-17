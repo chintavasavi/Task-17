{
 "cells": [
  {
   "cell_type": "markdown",
   "id": "2fb306a3",
   "metadata": {},
   "source": [
    "Task 1:\n",
    "\n",
    "Create a file Write a Python program that creates a text file named \"data.txt\" and add data about python programming (should contain at least 5 lines)"
   ]
  },
  {
   "cell_type": "code",
   "execution_count": 8,
   "id": "4ab3897c",
   "metadata": {},
   "outputs": [],
   "source": [
    "with open(r\"data.txt\",'w+') as p:\n",
    "    p.write(\"Python is a high-level, general-purpose programming language. Its design philosophy emphasizes code readability with the use of significant indentation. Python is dynamically typed and garbage-collected. It supports multiple programming paradigms, including structured, object-oriented and functional programming\")\n",
    "   "
   ]
  },
  {
   "cell_type": "markdown",
   "id": "42f4cad9",
   "metadata": {},
   "source": [
    "Read and Display File Contents Write a Python program that reads a text file named \"data.txt\" and displays its contents on the screen."
   ]
  },
  {
   "cell_type": "code",
   "execution_count": 9,
   "id": "c34b8d65",
   "metadata": {},
   "outputs": [
    {
     "name": "stdout",
     "output_type": "stream",
     "text": [
      "Python is a high-level, general-purpose programming language. Its design philosophy emphasizes code readability with the use of significant indentation. Python is dynamically typed and garbage-collected. It supports multiple programming paradigms, including structured, object-oriented and functional programming\n"
     ]
    }
   ],
   "source": [
    "with open(r\"data.txt\",'r+') as file1:\n",
    "    print(file1.read())"
   ]
  },
  {
   "cell_type": "markdown",
   "id": "c9dc7633",
   "metadata": {},
   "source": [
    "Count Words in a File Write a Python program that reads a text file named \"data.txt\" and counts the total number of words in the file. Display the word count on the screen."
   ]
  },
  {
   "cell_type": "code",
   "execution_count": 16,
   "id": "3facdf2c",
   "metadata": {},
   "outputs": [],
   "source": [
    "with open(\"data.txt\") as f2:\n",
    "    f3=f2.read()\n",
    "    f4=f3.split()\n"
   ]
  },
  {
   "cell_type": "code",
   "execution_count": 18,
   "id": "f4c0a0af",
   "metadata": {},
   "outputs": [
    {
     "name": "stdout",
     "output_type": "stream",
     "text": [
      "['Python', 'is', 'a', 'high-level,', 'general-purpose', 'programming', 'language.', 'Its', 'design', 'philosophy', 'emphasizes', 'code', 'readability', 'with', 'the', 'use', 'of', 'significant', 'indentation.', 'Python', 'is', 'dynamically', 'typed', 'and', 'garbage-collected.', 'It', 'supports', 'multiple', 'programming', 'paradigms,', 'including', 'structured,', 'object-oriented', 'and', 'functional', 'programming']\n"
     ]
    }
   ],
   "source": [
    "print(f4)"
   ]
  },
  {
   "cell_type": "code",
   "execution_count": 19,
   "id": "be75eddd",
   "metadata": {},
   "outputs": [
    {
     "data": {
      "text/plain": [
       "36"
      ]
     },
     "execution_count": 19,
     "metadata": {},
     "output_type": "execute_result"
    }
   ],
   "source": [
    "len(f4)"
   ]
  },
  {
   "cell_type": "markdown",
   "id": "d0f6b6bc",
   "metadata": {},
   "source": [
    "Search and Replace Create a Python program that reads a text file named \"data.txt\" and asks the user to enter a word to search for. If the word is found in the file, replace all occurrences of the word with a new word provided by the user."
   ]
  },
  {
   "cell_type": "code",
   "execution_count": 1,
   "id": "d594187c",
   "metadata": {},
   "outputs": [
    {
     "name": "stdout",
     "output_type": "stream",
     "text": [
      "Enter the word :: Python\n",
      "Enter the new word to replace:: PYThoN\n",
      "PYThoN is a high-level, general-purpose programming language. Its design philosophy emphasizes code readability with the use of significant indentation. PYThoN is dynamically typed and garbage-collected. It supports multiple programming paradigms, including structured, object-oriented and functional programming\n"
     ]
    }
   ],
   "source": [
    "with open(\"data.txt\",'r+') as f5:\n",
    "    f6 = f5.read()\n",
    "    word = input(\"Enter the word :: \")\n",
    "    new_word = input(\"Enter the new word to replace:: \")\n",
    "    if word in f6:\n",
    "        print(f6.replace(word,new_word))"
   ]
  },
  {
   "cell_type": "markdown",
   "id": "8752206f",
   "metadata": {},
   "source": [
    "Append to a File Write a Python program that prompts the user to enter a sentence. Append this sentence to an existing file named \"notes.txt\". Make sure the newly added sentence starts on a new line."
   ]
  },
  {
   "cell_type": "code",
   "execution_count": 2,
   "id": "dc253b4c",
   "metadata": {},
   "outputs": [
    {
     "name": "stdout",
     "output_type": "stream",
     "text": [
      "enter you sentence:  Hello world\n"
     ]
    }
   ],
   "source": [
    "with open(\"notes.txt\",\"a+\") as f:\n",
    "    f.write(\"Python program is easy to learn for beginner\")\n",
    "    new = input(\"enter you sentence:  \")\n",
    "    f.write(f\"\\n{new}\")"
   ]
  },
  {
   "cell_type": "code",
   "execution_count": null,
   "id": "501e2822",
   "metadata": {},
   "outputs": [],
   "source": [
    "file1 = open(\"notes.txt\")\n",
    "print(file1.read())"
   ]
  },
  {
   "cell_type": "code",
   "execution_count": 4,
   "id": "00ce9d1d",
   "metadata": {},
   "outputs": [
    {
     "name": "stdout",
     "output_type": "stream",
     "text": [
      "Python program is easy to learn for beginner\n",
      "Hello world\n"
     ]
    }
   ],
   "source": [
    "f = open(\"notes.txt\")\n",
    "print(f.read())"
   ]
  },
  {
   "cell_type": "code",
   "execution_count": null,
   "id": "f690fdce",
   "metadata": {},
   "outputs": [],
   "source": []
  }
 ],
 "metadata": {
  "kernelspec": {
   "display_name": "Python 3 (ipykernel)",
   "language": "python",
   "name": "python3"
  },
  "language_info": {
   "codemirror_mode": {
    "name": "ipython",
    "version": 3
   },
   "file_extension": ".py",
   "mimetype": "text/x-python",
   "name": "python",
   "nbconvert_exporter": "python",
   "pygments_lexer": "ipython3",
   "version": "3.11.4"
  }
 },
 "nbformat": 4,
 "nbformat_minor": 5
}
